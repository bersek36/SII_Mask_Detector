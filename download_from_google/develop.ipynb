{
 "cells": [
  {
   "cell_type": "code",
   "execution_count": 1,
   "id": "d1ba8992-f1ed-4c89-8551-bcd6741cd2d0",
   "metadata": {},
   "outputs": [
    {
     "data": {
      "text/plain": [
       "('https://www.googleapis.com/auth/drive',\n",
       " 'google_api.json',\n",
       " 'mask_detector',\n",
       " 'v3',\n",
       " 'drive')"
      ]
     },
     "execution_count": 1,
     "metadata": {},
     "output_type": "execute_result"
    }
   ],
   "source": [
    "import os\n",
    "\n",
    "SCOPES = os.environ[\"SCOPES\"]\n",
    "CLIENT_SECRET_FILE = os.environ[\"CLIENT_SECRET_FILE\"]\n",
    "APPLICATION_NAME = os.environ[\"APPLICATION_NAME\"]\n",
    "VERSION_API = os.environ[\"VERSION_API\"]\n",
    "SERVICE = os.environ[\"SERVICE\"]\n",
    "\n",
    "SCOPES, CLIENT_SECRET_FILE, APPLICATION_NAME, VERSION_API, SERVICE"
   ]
  },
  {
   "cell_type": "code",
   "execution_count": null,
   "id": "75f1bf0c-4677-4103-90aa-71c62a277702",
   "metadata": {
    "tags": []
   },
   "outputs": [],
   "source": [
    "import cv2\n",
    "\n",
    "cam=cv2.VideoCapture(0)\n",
    "\n",
    "while True:\n",
    "    _,frame=cam.read()\n",
    "    if frame is not None:\n",
    "        cv2.imshow(\"frame\",frame)\n",
    "\n",
    "# cam.release()"
   ]
  },
  {
   "cell_type": "code",
   "execution_count": 3,
   "id": "d18365d9-15db-4e24-ba76-450c4c1e3dda",
   "metadata": {},
   "outputs": [
    {
     "name": "stdout",
     "output_type": "stream",
     "text": [
      "Download 100%.\n",
      "Download 100%.\n",
      "Download 38%.\n",
      "Download 77%.\n",
      "Download 100%.\n",
      "Files:\n",
      "{'kind': 'drive#file', 'id': '1QkAnoWOOEpAbhiP8s0VnFUxeYiVyLNPb', 'name': 'GettingStarted_CallResponse', 'mimeType': 'application/vnd.google-apps.folder'}\n",
      "GettingStarted_CallResponse (1QkAnoWOOEpAbhiP8s0VnFUxeYiVyLNPb)\n",
      "{'kind': 'drive#file', 'id': '1OBQB43qigDG7HKOdcEN4FUdUq2Beo-Qy', 'name': 'GettingStarted_HandlingData', 'mimeType': 'application/vnd.google-apps.folder'}\n",
      "GettingStarted_HandlingData (1OBQB43qigDG7HKOdcEN4FUdUq2Beo-Qy)\n",
      "{'kind': 'drive#file', 'id': '1Fo6W82qx1-zhK8ngR-uTga8zXJQ1S1Un', 'name': 'GettingStarted', 'mimeType': 'application/vnd.google-apps.folder'}\n",
      "GettingStarted (1Fo6W82qx1-zhK8ngR-uTga8zXJQ1S1Un)\n",
      "{'kind': 'drive#file', 'id': '1Ghma_0dm14ej2Ckh7CrCofVu7Vdtlxhz', 'name': 'GettingStarted_HandlingData.ino', 'mimeType': 'application/octet-stream'}\n",
      "GettingStarted_HandlingData.ino (1Ghma_0dm14ej2Ckh7CrCofVu7Vdtlxhz)\n",
      "{'kind': 'drive#file', 'id': '1m-jWwu433aM7HH9Yv0ZNHiw9nZRPmfBo', 'name': 'GettingStarted.ino', 'mimeType': 'application/octet-stream'}\n",
      "GettingStarted.ino (1m-jWwu433aM7HH9Yv0ZNHiw9nZRPmfBo)\n",
      "{'kind': 'drive#file', 'id': '1INF4KD8xDvCFBQLKskhY5mE4GdjUmqKM', 'name': 'GettingStarted_CallResponse.ino', 'mimeType': 'application/octet-stream'}\n",
      "GettingStarted_CallResponse.ino (1INF4KD8xDvCFBQLKskhY5mE4GdjUmqKM)\n",
      "{'kind': 'drive#file', 'id': '1PAlf4rf-f3be7UEMk8yULYdUF4krNZbw', 'name': 'gettingstarted_call_response_int.cpp', 'mimeType': 'text/x-c++src'}\n",
      "gettingstarted_call_response_int.cpp (1PAlf4rf-f3be7UEMk8yULYdUF4krNZbw)\n",
      "{'kind': 'drive#file', 'id': '1P3IucgBRMvCRMp2JdKdIhCMwLHq0kc5Q', 'name': 'gettingstarted_call_response_int2.cpp', 'mimeType': 'text/x-c++src'}\n",
      "gettingstarted_call_response_int2.cpp (1P3IucgBRMvCRMp2JdKdIhCMwLHq0kc5Q)\n",
      "{'kind': 'drive#file', 'id': '1S13tNuDOEf6xmTr0PXgnDzZuohhTip3z', 'name': 'gettingstarted_call_response_int2', 'mimeType': 'application/x-executable'}\n",
      "gettingstarted_call_response_int2 (1S13tNuDOEf6xmTr0PXgnDzZuohhTip3z)\n",
      "{'kind': 'drive#file', 'id': '1Y-1XSIhLzT00Jk2DLJtOiC_Zd5nzaoxx', 'name': 'gettingstarted_call_response_int', 'mimeType': 'application/x-executable'}\n",
      "gettingstarted_call_response_int (1Y-1XSIhLzT00Jk2DLJtOiC_Zd5nzaoxx)\n"
     ]
    }
   ],
   "source": [
    "%run -i 'download_models.py'"
   ]
  }
 ],
 "metadata": {
  "kernelspec": {
   "display_name": "Python 3",
   "language": "python",
   "name": "python3"
  },
  "language_info": {
   "codemirror_mode": {
    "name": "ipython",
    "version": 3
   },
   "file_extension": ".py",
   "mimetype": "text/x-python",
   "name": "python",
   "nbconvert_exporter": "python",
   "pygments_lexer": "ipython3",
   "version": "3.8.5"
  }
 },
 "nbformat": 4,
 "nbformat_minor": 5
}
